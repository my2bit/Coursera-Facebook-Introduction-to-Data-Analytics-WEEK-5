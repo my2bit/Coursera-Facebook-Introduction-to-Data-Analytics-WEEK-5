{
 "cells": [
  {
   "cell_type": "markdown",
   "id": "49e80299",
   "metadata": {
    "deletable": false,
    "editable": false,
    "nbgrader": {
     "cell_type": "markdown",
     "checksum": "5017bc807a74032c3485d06e37fb2b22",
     "grade": false,
     "grade_id": "cell-8ffd98ff51da8dd5",
     "locked": true,
     "schema_version": 3,
     "solution": false,
     "task": false
    }
   },
   "source": [
    "# Part III: Explore\n",
    "\n",
    "![alt text](data/inu_neko_logo_small.png \"Inu + Neko\")\n",
    "\n",
    "Hello! We are Inu + Neku and we are a Dog & Cat services and supplies store located in New York City. We just started our e-commerce business and need your help analyzing our data!"
   ]
  },
  {
   "cell_type": "markdown",
   "id": "494e3aba",
   "metadata": {
    "deletable": false,
    "editable": false,
    "nbgrader": {
     "cell_type": "markdown",
     "checksum": "1fff0aa4d6f4a2ad814dea7c8e000ef1",
     "grade": false,
     "grade_id": "cell-843890ae04b6d8b8",
     "locked": true,
     "schema_version": 3,
     "solution": false,
     "task": false
    }
   },
   "source": [
    "## Description\n",
    "\n",
    "We need to make sure the data is clean before starting your analysis. As a reminder, we should check for:\n",
    "\n",
    "- Duplicate records\n",
    "- Consistent formatting\n",
    "- Missing values\n",
    "- Obviously wrong values"
   ]
  },
  {
   "cell_type": "code",
   "execution_count": 32,
   "id": "8532bdf3",
   "metadata": {
    "deletable": false,
    "editable": false,
    "nbgrader": {
     "cell_type": "code",
     "checksum": "1c728db7e7325023b209a35450ad83b0",
     "grade": false,
     "grade_id": "cell-beb161b036c44177",
     "locked": true,
     "schema_version": 3,
     "solution": false,
     "task": false
    }
   },
   "outputs": [],
   "source": [
    "import pandas as pd\n",
    "import numpy as np\n",
    "import matplotlib.pyplot as plt"
   ]
  },
  {
   "cell_type": "code",
   "execution_count": 33,
   "id": "706ba2eb",
   "metadata": {
    "deletable": false,
    "editable": false,
    "nbgrader": {
     "cell_type": "code",
     "checksum": "c35b523c67b34a1ab0c7e70b08b8c537",
     "grade": false,
     "grade_id": "cell-1316036195ef2947",
     "locked": true,
     "schema_version": 3,
     "solution": false,
     "task": false
    }
   },
   "outputs": [
    {
     "data": {
      "text/html": [
       "<div>\n",
       "<style scoped>\n",
       "    .dataframe tbody tr th:only-of-type {\n",
       "        vertical-align: middle;\n",
       "    }\n",
       "\n",
       "    .dataframe tbody tr th {\n",
       "        vertical-align: top;\n",
       "    }\n",
       "\n",
       "    .dataframe thead th {\n",
       "        text-align: right;\n",
       "    }\n",
       "</style>\n",
       "<table border=\"1\" class=\"dataframe\">\n",
       "  <thead>\n",
       "    <tr style=\"text-align: right;\">\n",
       "      <th></th>\n",
       "      <th>trans_id</th>\n",
       "      <th>prod_upc</th>\n",
       "      <th>cust_id</th>\n",
       "      <th>trans_timestamp</th>\n",
       "      <th>trans_year</th>\n",
       "      <th>trans_month</th>\n",
       "      <th>trans_day</th>\n",
       "      <th>trans_hour</th>\n",
       "      <th>trans_quantity</th>\n",
       "      <th>cust_age</th>\n",
       "      <th>cust_state</th>\n",
       "      <th>prod_price</th>\n",
       "      <th>prod_title</th>\n",
       "      <th>prod_category</th>\n",
       "      <th>prod_animal_type</th>\n",
       "      <th>total_sales</th>\n",
       "    </tr>\n",
       "  </thead>\n",
       "  <tbody>\n",
       "    <tr>\n",
       "      <th>0</th>\n",
       "      <td>10300097</td>\n",
       "      <td>719638485153</td>\n",
       "      <td>1001019</td>\n",
       "      <td>35:21.4</td>\n",
       "      <td>2021</td>\n",
       "      <td>1</td>\n",
       "      <td>1</td>\n",
       "      <td>1</td>\n",
       "      <td>1</td>\n",
       "      <td>20</td>\n",
       "      <td>New York</td>\n",
       "      <td>72.99</td>\n",
       "      <td>Cat Cave</td>\n",
       "      <td>bedding</td>\n",
       "      <td>cat</td>\n",
       "      <td>72.99</td>\n",
       "    </tr>\n",
       "    <tr>\n",
       "      <th>1</th>\n",
       "      <td>10300093</td>\n",
       "      <td>73201504044</td>\n",
       "      <td>1001015</td>\n",
       "      <td>33:37.5</td>\n",
       "      <td>2021</td>\n",
       "      <td>1</td>\n",
       "      <td>1</td>\n",
       "      <td>1</td>\n",
       "      <td>1</td>\n",
       "      <td>34</td>\n",
       "      <td>New York</td>\n",
       "      <td>18.95</td>\n",
       "      <td>Purrfect Puree</td>\n",
       "      <td>treat</td>\n",
       "      <td>cat</td>\n",
       "      <td>18.95</td>\n",
       "    </tr>\n",
       "    <tr>\n",
       "      <th>2</th>\n",
       "      <td>10300093</td>\n",
       "      <td>719638485153</td>\n",
       "      <td>1001015</td>\n",
       "      <td>33:37.5</td>\n",
       "      <td>2021</td>\n",
       "      <td>1</td>\n",
       "      <td>1</td>\n",
       "      <td>1</td>\n",
       "      <td>1</td>\n",
       "      <td>34</td>\n",
       "      <td>New York</td>\n",
       "      <td>72.99</td>\n",
       "      <td>Cat Cave</td>\n",
       "      <td>bedding</td>\n",
       "      <td>cat</td>\n",
       "      <td>72.99</td>\n",
       "    </tr>\n",
       "    <tr>\n",
       "      <th>3</th>\n",
       "      <td>10300093</td>\n",
       "      <td>441530839394</td>\n",
       "      <td>1001015</td>\n",
       "      <td>33:37.5</td>\n",
       "      <td>2021</td>\n",
       "      <td>1</td>\n",
       "      <td>1</td>\n",
       "      <td>1</td>\n",
       "      <td>2</td>\n",
       "      <td>34</td>\n",
       "      <td>New York</td>\n",
       "      <td>28.45</td>\n",
       "      <td>Ball and String</td>\n",
       "      <td>toy</td>\n",
       "      <td>cat</td>\n",
       "      <td>56.90</td>\n",
       "    </tr>\n",
       "    <tr>\n",
       "      <th>4</th>\n",
       "      <td>10300093</td>\n",
       "      <td>733426809698</td>\n",
       "      <td>1001015</td>\n",
       "      <td>33:37.5</td>\n",
       "      <td>2021</td>\n",
       "      <td>1</td>\n",
       "      <td>1</td>\n",
       "      <td>1</td>\n",
       "      <td>1</td>\n",
       "      <td>34</td>\n",
       "      <td>New York</td>\n",
       "      <td>18.95</td>\n",
       "      <td>Yum Fish-Dish</td>\n",
       "      <td>food</td>\n",
       "      <td>cat</td>\n",
       "      <td>18.95</td>\n",
       "    </tr>\n",
       "    <tr>\n",
       "      <th>...</th>\n",
       "      <td>...</td>\n",
       "      <td>...</td>\n",
       "      <td>...</td>\n",
       "      <td>...</td>\n",
       "      <td>...</td>\n",
       "      <td>...</td>\n",
       "      <td>...</td>\n",
       "      <td>...</td>\n",
       "      <td>...</td>\n",
       "      <td>...</td>\n",
       "      <td>...</td>\n",
       "      <td>...</td>\n",
       "      <td>...</td>\n",
       "      <td>...</td>\n",
       "      <td>...</td>\n",
       "      <td>...</td>\n",
       "    </tr>\n",
       "    <tr>\n",
       "      <th>38218</th>\n",
       "      <td>10327860</td>\n",
       "      <td>287663658863</td>\n",
       "      <td>1022098</td>\n",
       "      <td>37:12.8</td>\n",
       "      <td>2021</td>\n",
       "      <td>6</td>\n",
       "      <td>30</td>\n",
       "      <td>30</td>\n",
       "      <td>1</td>\n",
       "      <td>25</td>\n",
       "      <td>New York</td>\n",
       "      <td>9.95</td>\n",
       "      <td>All Veggie Yummies</td>\n",
       "      <td>treat</td>\n",
       "      <td>dog</td>\n",
       "      <td>9.95</td>\n",
       "    </tr>\n",
       "    <tr>\n",
       "      <th>38219</th>\n",
       "      <td>10327960</td>\n",
       "      <td>140160459467</td>\n",
       "      <td>1022157</td>\n",
       "      <td>45:09.9</td>\n",
       "      <td>2021</td>\n",
       "      <td>6</td>\n",
       "      <td>30</td>\n",
       "      <td>30</td>\n",
       "      <td>2</td>\n",
       "      <td>31</td>\n",
       "      <td>Pennsylvania</td>\n",
       "      <td>48.95</td>\n",
       "      <td>Snoozer Essentails</td>\n",
       "      <td>bedding</td>\n",
       "      <td>dog</td>\n",
       "      <td>97.90</td>\n",
       "    </tr>\n",
       "    <tr>\n",
       "      <th>38220</th>\n",
       "      <td>10328009</td>\n",
       "      <td>425361189561</td>\n",
       "      <td>1022189</td>\n",
       "      <td>57:44.3</td>\n",
       "      <td>2021</td>\n",
       "      <td>6</td>\n",
       "      <td>30</td>\n",
       "      <td>30</td>\n",
       "      <td>2</td>\n",
       "      <td>53</td>\n",
       "      <td>New Jersey</td>\n",
       "      <td>15.99</td>\n",
       "      <td>Snack-em Fish</td>\n",
       "      <td>treat</td>\n",
       "      <td>cat</td>\n",
       "      <td>31.98</td>\n",
       "    </tr>\n",
       "    <tr>\n",
       "      <th>38221</th>\n",
       "      <td>10328089</td>\n",
       "      <td>733426809698</td>\n",
       "      <td>1022236</td>\n",
       "      <td>59:29.8</td>\n",
       "      <td>2021</td>\n",
       "      <td>6</td>\n",
       "      <td>30</td>\n",
       "      <td>30</td>\n",
       "      <td>1</td>\n",
       "      <td>23</td>\n",
       "      <td>Tennessee</td>\n",
       "      <td>18.95</td>\n",
       "      <td>Yum Fish-Dish</td>\n",
       "      <td>food</td>\n",
       "      <td>cat</td>\n",
       "      <td>18.95</td>\n",
       "    </tr>\n",
       "    <tr>\n",
       "      <th>38222</th>\n",
       "      <td>10328109</td>\n",
       "      <td>717036112695</td>\n",
       "      <td>1011924</td>\n",
       "      <td>30:52.2</td>\n",
       "      <td>2021</td>\n",
       "      <td>6</td>\n",
       "      <td>30</td>\n",
       "      <td>30</td>\n",
       "      <td>1</td>\n",
       "      <td>24</td>\n",
       "      <td>Pennsylvania</td>\n",
       "      <td>60.99</td>\n",
       "      <td>Reddy Beddy</td>\n",
       "      <td>bedding</td>\n",
       "      <td>dog</td>\n",
       "      <td>60.99</td>\n",
       "    </tr>\n",
       "  </tbody>\n",
       "</table>\n",
       "<p>38223 rows × 16 columns</p>\n",
       "</div>"
      ],
      "text/plain": [
       "       trans_id      prod_upc  cust_id trans_timestamp  trans_year  \\\n",
       "0      10300097  719638485153  1001019         35:21.4        2021   \n",
       "1      10300093   73201504044  1001015         33:37.5        2021   \n",
       "2      10300093  719638485153  1001015         33:37.5        2021   \n",
       "3      10300093  441530839394  1001015         33:37.5        2021   \n",
       "4      10300093  733426809698  1001015         33:37.5        2021   \n",
       "...         ...           ...      ...             ...         ...   \n",
       "38218  10327860  287663658863  1022098         37:12.8        2021   \n",
       "38219  10327960  140160459467  1022157         45:09.9        2021   \n",
       "38220  10328009  425361189561  1022189         57:44.3        2021   \n",
       "38221  10328089  733426809698  1022236         59:29.8        2021   \n",
       "38222  10328109  717036112695  1011924         30:52.2        2021   \n",
       "\n",
       "       trans_month  trans_day  trans_hour  trans_quantity  cust_age  \\\n",
       "0                1          1           1               1        20   \n",
       "1                1          1           1               1        34   \n",
       "2                1          1           1               1        34   \n",
       "3                1          1           1               2        34   \n",
       "4                1          1           1               1        34   \n",
       "...            ...        ...         ...             ...       ...   \n",
       "38218            6         30          30               1        25   \n",
       "38219            6         30          30               2        31   \n",
       "38220            6         30          30               2        53   \n",
       "38221            6         30          30               1        23   \n",
       "38222            6         30          30               1        24   \n",
       "\n",
       "         cust_state  prod_price          prod_title prod_category  \\\n",
       "0          New York       72.99            Cat Cave       bedding   \n",
       "1          New York       18.95      Purrfect Puree         treat   \n",
       "2          New York       72.99            Cat Cave       bedding   \n",
       "3          New York       28.45     Ball and String           toy   \n",
       "4          New York       18.95       Yum Fish-Dish          food   \n",
       "...             ...         ...                 ...           ...   \n",
       "38218      New York        9.95  All Veggie Yummies         treat   \n",
       "38219  Pennsylvania       48.95  Snoozer Essentails       bedding   \n",
       "38220    New Jersey       15.99       Snack-em Fish         treat   \n",
       "38221     Tennessee       18.95       Yum Fish-Dish          food   \n",
       "38222  Pennsylvania       60.99         Reddy Beddy       bedding   \n",
       "\n",
       "      prod_animal_type  total_sales  \n",
       "0                  cat        72.99  \n",
       "1                  cat        18.95  \n",
       "2                  cat        72.99  \n",
       "3                  cat        56.90  \n",
       "4                  cat        18.95  \n",
       "...                ...          ...  \n",
       "38218              dog         9.95  \n",
       "38219              dog        97.90  \n",
       "38220              cat        31.98  \n",
       "38221              cat        18.95  \n",
       "38222              dog        60.99  \n",
       "\n",
       "[38223 rows x 16 columns]"
      ]
     },
     "execution_count": 33,
     "metadata": {},
     "output_type": "execute_result"
    }
   ],
   "source": [
    "df_cleaned = pd.read_csv('data/inu_neko_orderline_clean.csv')\n",
    "df_cleaned"
   ]
  },
  {
   "cell_type": "code",
   "execution_count": 34,
   "id": "2fb94ccf",
   "metadata": {
    "deletable": false,
    "editable": false,
    "nbgrader": {
     "cell_type": "code",
     "checksum": "8e1377c8abf545c005cd78319345cb60",
     "grade": false,
     "grade_id": "cell-1f7c217b9f5dc484",
     "locked": true,
     "schema_version": 3,
     "solution": false,
     "task": false
    }
   },
   "outputs": [
    {
     "name": "stdout",
     "output_type": "stream",
     "text": [
      "<class 'pandas.core.frame.DataFrame'>\n",
      "RangeIndex: 38223 entries, 0 to 38222\n",
      "Data columns (total 16 columns):\n",
      " #   Column            Non-Null Count  Dtype  \n",
      "---  ------            --------------  -----  \n",
      " 0   trans_id          38223 non-null  int64  \n",
      " 1   prod_upc          38223 non-null  int64  \n",
      " 2   cust_id           38223 non-null  int64  \n",
      " 3   trans_timestamp   38223 non-null  object \n",
      " 4   trans_year        38223 non-null  int64  \n",
      " 5   trans_month       38223 non-null  int64  \n",
      " 6   trans_day         38223 non-null  int64  \n",
      " 7   trans_hour        38223 non-null  int64  \n",
      " 8   trans_quantity    38223 non-null  int64  \n",
      " 9   cust_age          38223 non-null  int64  \n",
      " 10  cust_state        38223 non-null  object \n",
      " 11  prod_price        38223 non-null  float64\n",
      " 12  prod_title        38223 non-null  object \n",
      " 13  prod_category     38223 non-null  object \n",
      " 14  prod_animal_type  38223 non-null  object \n",
      " 15  total_sales       38223 non-null  float64\n",
      "dtypes: float64(2), int64(9), object(5)\n",
      "memory usage: 4.7+ MB\n"
     ]
    }
   ],
   "source": [
    "df_cleaned.info()"
   ]
  },
  {
   "cell_type": "markdown",
   "id": "d8fccd15",
   "metadata": {
    "deletable": false,
    "editable": false,
    "nbgrader": {
     "cell_type": "markdown",
     "checksum": "dbbcb9e840f3b9c342c881a835e5f0c1",
     "grade": false,
     "grade_id": "cell-0a31f9747863940e",
     "locked": true,
     "schema_version": 3,
     "solution": false,
     "task": false
    }
   },
   "source": [
    "#### Question 2: Alpha and Omega I\n",
    "What was the month and day of the first sale? Store as a tuple in that order and assign the tuple to the variable `first_date`."
   ]
  },
  {
   "cell_type": "code",
   "execution_count": 35,
   "id": "be0d1f38",
   "metadata": {},
   "outputs": [
    {
     "name": "stdout",
     "output_type": "stream",
     "text": [
      "       trans_month  trans_day\n",
      "0                1          1\n",
      "1                1          1\n",
      "2                1          1\n",
      "3                1          1\n",
      "4                1          1\n",
      "...            ...        ...\n",
      "38218            6         30\n",
      "38219            6         30\n",
      "38220            6         30\n",
      "38221            6         30\n",
      "38222            6         30\n",
      "\n",
      "[38223 rows x 2 columns]\n"
     ]
    }
   ],
   "source": [
    "# 1. Make a new dataframe comprised of variables of interest: 'trans_month', 'trans_day'\n",
    "\n",
    "df_sorted_ascending = df_cleaned[['trans_month', 'trans_day']]\n",
    "print(df_sorted_ascending) # Print to verify"
   ]
  },
  {
   "cell_type": "code",
   "execution_count": 36,
   "id": "a042072c",
   "metadata": {
    "deletable": false,
    "nbgrader": {
     "cell_type": "code",
     "checksum": "2cbc94a0dd0b75250dacdc1b2f1a6780",
     "grade": false,
     "grade_id": "cell-bd2b89a8035a9ab8",
     "locked": false,
     "schema_version": 3,
     "solution": true,
     "task": false
    }
   },
   "outputs": [
    {
     "name": "stdout",
     "output_type": "stream",
     "text": [
      "       trans_month  trans_day\n",
      "0                1          1\n",
      "1                1          1\n",
      "2                1          1\n",
      "3                1          1\n",
      "4                1          1\n",
      "...            ...        ...\n",
      "38218            6         30\n",
      "38219            6         30\n",
      "38220            6         30\n",
      "38221            6         30\n",
      "38222            6         30\n",
      "\n",
      "[38223 rows x 2 columns]\n"
     ]
    }
   ],
   "source": [
    "# 2. Sort the new dataframe first on 'trans_month' and then on 'trans_day'.\n",
    "# just like we do in spreadsheet, when we add levels\n",
    "\n",
    "df_sorted_ascending = df_cleaned[['trans_month', 'trans_day']].sort_values(by = ['trans_month','trans_day'] )\n",
    "print(df_sorted_ascending) # Print to verify"
   ]
  },
  {
   "cell_type": "code",
   "execution_count": 37,
   "id": "28f592c0",
   "metadata": {},
   "outputs": [
    {
     "name": "stdout",
     "output_type": "stream",
     "text": [
      "trans_month    1\n",
      "trans_day      1\n",
      "Name: 0, dtype: int64\n"
     ]
    },
    {
     "data": {
      "text/plain": [
       "pandas.core.series.Series"
      ]
     },
     "execution_count": 37,
     "metadata": {},
     "output_type": "execute_result"
    }
   ],
   "source": [
    "# locate the row with least 'trans_month' and 'trans_day' values\n",
    "# That means locate the value at index position 0.\n",
    "first_date = df_sorted_ascending[['trans_month','trans_day']].iloc[0]\n",
    "print(first_date)\n",
    "type(first_date)"
   ]
  },
  {
   "cell_type": "code",
   "execution_count": 42,
   "id": "1f51e8a6",
   "metadata": {},
   "outputs": [
    {
     "data": {
      "text/plain": [
       "(1, 1)"
      ]
     },
     "execution_count": 42,
     "metadata": {},
     "output_type": "execute_result"
    }
   ],
   "source": [
    "# convert the first_date to a tuple.\n",
    "first_date = (tuple(first_date))\n",
    "\n",
    "first_date"
   ]
  },
  {
   "cell_type": "markdown",
   "id": "db2e7600",
   "metadata": {},
   "source": [
    "# Do the same for Q3 to locate the last value"
   ]
  },
  {
   "cell_type": "code",
   "execution_count": 39,
   "id": "451067fc",
   "metadata": {},
   "outputs": [
    {
     "name": "stdout",
     "output_type": "stream",
     "text": [
      "(6, 30)\n",
      "<class 'tuple'>\n"
     ]
    }
   ],
   "source": [
    "# Q3 - LATEST ORDER\n",
    "df_sorted_ascending = df_cleaned.sort_values(by = ['trans_month','trans_day'] )\n",
    "last_date = tuple(df_sorted_ascending[['trans_month','trans_day']].iloc[-1])\n",
    "print(last_date)\n",
    "\n",
    "print(type(last_date))"
   ]
  },
  {
   "cell_type": "code",
   "execution_count": 40,
   "id": "d388f780",
   "metadata": {
    "deletable": false,
    "editable": false,
    "nbgrader": {
     "cell_type": "code",
     "checksum": "55cc41c61fb318c5b4152d5a5acc75fa",
     "grade": true,
     "grade_id": "cell-8a2534037c10eb71",
     "locked": true,
     "points": 4,
     "schema_version": 3,
     "solution": false,
     "task": false
    }
   },
   "outputs": [],
   "source": [
    "# Q2 Test Cases\n",
    "assert len(first_date) == 2\n",
    "assert str(first_date[0]).isnumeric() \n",
    "assert str(first_date[1]).isnumeric() "
   ]
  },
  {
   "cell_type": "code",
   "execution_count": null,
   "id": "ec6e36b8",
   "metadata": {},
   "outputs": [],
   "source": []
  }
 ],
 "metadata": {
  "kernelspec": {
   "display_name": "Python 3",
   "language": "python",
   "name": "python3"
  },
  "language_info": {
   "codemirror_mode": {
    "name": "ipython",
    "version": 3
   },
   "file_extension": ".py",
   "mimetype": "text/x-python",
   "name": "python",
   "nbconvert_exporter": "python",
   "pygments_lexer": "ipython3",
   "version": "3.9.5"
  }
 },
 "nbformat": 4,
 "nbformat_minor": 5
}
